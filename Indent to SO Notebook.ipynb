{
 "cells": [
  {
   "cell_type": "code",
   "execution_count": 4,
   "metadata": {},
   "outputs": [],
   "source": [
    "import pandas as pd\n",
    "from datetime import datetime\n",
    "import os\n",
    "from dotenv import load_dotenv\n",
    "import logging"
   ]
  },
  {
   "cell_type": "code",
   "execution_count": 5,
   "metadata": {},
   "outputs": [],
   "source": [
    "# Configure the logger\n",
    "logging.basicConfig(\n",
    "    level=logging.INFO,  # Set the logging level\n",
    "    format='%(asctime)s - %(levelname)s - %(message)s - Line: %(lineno)d',  # Define the output format\n",
    ")"
   ]
  },
  {
   "cell_type": "code",
   "execution_count": 6,
   "metadata": {},
   "outputs": [],
   "source": [
    "load_dotenv()\n",
    "\n",
    "logger = logging.getLogger()"
   ]
  },
  {
   "cell_type": "code",
   "execution_count": 7,
   "metadata": {},
   "outputs": [],
   "source": [
    "#Set Current Date and Date Format\n",
    "date_format = '%d-%m-%Y'\n",
    "changed_format ='%d/%m/%Y'\n",
    "current_date = datetime.now().strftime(date_format)"
   ]
  },
  {
   "cell_type": "code",
   "execution_count": 8,
   "metadata": {},
   "outputs": [],
   "source": [
    "#Google drive IDS for Files\n",
    "raw_item_mst_csv_id = os.getenv('RAW_ITEM_MST_CSV_ID')\n",
    "raw_cust_mst_csv_id = os.getenv('RAW_CUST_MST_CSV_ID')\n",
    "state_code_mst_excel_id = os.getenv('STATE_CODE_MST_EXCEL_ID')\n",
    "so_template_id = os.getenv('SO_TEMPLATE_ID')"
   ]
  },
  {
   "cell_type": "code",
   "execution_count": 32,
   "metadata": {},
   "outputs": [],
   "source": [
    "#URL Creation\n",
    "state_code_mst_excel = f'https://docs.google.com/spreadsheets/d/{state_code_mst_excel_id}/export?format=xlsx'\n",
    "\n",
    "raw_cust_mst_csv = f'https://drive.google.com/uc?id={raw_cust_mst_csv_id}'\n",
    "\n",
    "raw_item_mst_csv = f'https://drive.google.com/uc?id={raw_item_mst_csv_id}'\n",
    "\n",
    "so_template = f'https://docs.google.com/spreadsheets/d/{so_template_id}/export?format=xlsx'"
   ]
  },
  {
   "cell_type": "code",
   "execution_count": 33,
   "metadata": {},
   "outputs": [],
   "source": [
    "#Getting Input file\n",
    "indent_data = input('Enter Indent file full Path (e.g., C:\\\\Users\\\\Downloads\\\\file.csv): ')\n",
    "\n",
    "if not os.path.exists(indent_data):\n",
    "    print('Please Enter correct path for the file!!!!')"
   ]
  },
  {
   "cell_type": "code",
   "execution_count": 34,
   "metadata": {},
   "outputs": [
    {
     "name": "stderr",
     "output_type": "stream",
     "text": [
      "2024-10-20 22:36:54,035 - INFO - Reading SO Template\n"
     ]
    }
   ],
   "source": [
    "#Reading SO Excel Template\n",
    "#---------------------Reading SO Template------------------\n",
    "logger.info('Reading SO Template')\n",
    "raw_so_template = pd.read_excel(so_template, sheet_name='Input_Data')\n",
    "#raw_so_template.head()"
   ]
  },
  {
   "cell_type": "code",
   "execution_count": 35,
   "metadata": {},
   "outputs": [],
   "source": [
    "#Converting Cloumns to List\n",
    "header = raw_so_template.columns.tolist()\n",
    "#print(header)"
   ]
  },
  {
   "cell_type": "code",
   "execution_count": 36,
   "metadata": {},
   "outputs": [],
   "source": [
    "#Creating a List to Exclude few Headers \n",
    "exclude_header_arr = ['External ID','CUSTOM FORM','ORDER TYPE','APPROVAL STATUS','SUBSIDIARY','LINE OF BUSINESS','BUSINESS VERTICALS','REMARKS','COMMIT','CLOSED','INDIA TAX NATURE','CURRENCY','DEPARTMENT','LINE OF BUSINESS ITEM','BUSINESS VERTICALS ITEM','DEPARTMENT ITEM']\n",
    "\n",
    "#Creating a dict and setting fixed Values for Excluded Header Array\n",
    "fvalues_exc_head = {\n",
    "    'CUSTOM FORM' : 'BEPL Sales Order - Invoice', 'ORDER TYPE' : 'FOFO Indent', 'SUBSIDIARY' : 'Bloombay Enterprises Private Limited', 'LINE OF BUSINESS' : 'QSR', 'BUSINESS VERTICALS' : 'FOFO','DEPARTMENT' : 'Supply Chain',\n",
    "    'REMARKS' : 'Indent to Sales Order Creation - Mannual', 'COMMIT' : 'Do Not Commit','CLOSED': 'NO', 'INDIA TAX NATURE' : 'Goods', 'CURRENCY' : 'INR',\n",
    "    'Sales Order - Items : Line of Business': 'QSR',\n",
    "    'Sales Order - Items : Business Verticals': 'FOFO',\n",
    "    'Sales Order - Items : Department': 'Supply Chain'\n",
    "}\n",
    "#print(fvalues_exc_head)"
   ]
  },
  {
   "cell_type": "code",
   "execution_count": 37,
   "metadata": {},
   "outputs": [
    {
     "name": "stdout",
     "output_type": "stream",
     "text": [
      "['ORDER ', 'CUSTOMER', 'Customer_Internal ID', 'DATE', 'PO #', 'INDENT NUMBER', 'SALES REP', 'SALES EFFECTIVE DATE', 'LOCATION', 'PAIRED INTERCOMPANY TRANSACTION', 'INTERCOMPANY STATUS E-COMMERCE OPERATOR', 'E-COMMERCE GSTIN', 'EXPORT TYPE', 'PLACE OF SUPPLY', 'LUT OR BOND NUMBER', 'MODE OF PAYMENT', 'ITEM', 'REQUESTED QUANTITY', 'QUANTITY', 'UNITS', 'DESCRIPTION', 'UNIT PRICE', 'Amount', 'LOCATION ITEM', 'INDIA TAX HSN OR SAC CODE']\n"
     ]
    }
   ],
   "source": [
    "# Filtering Excluded Header from Header\n",
    "filtered_header = [h for h in header if h not in exclude_header_arr]\n",
    "#print(filtered_header)"
   ]
  },
  {
   "cell_type": "code",
   "execution_count": 38,
   "metadata": {},
   "outputs": [
    {
     "name": "stderr",
     "output_type": "stream",
     "text": [
      "2024-10-20 22:36:56,893 - INFO - Reading Indent File!\n"
     ]
    }
   ],
   "source": [
    "#Creating Indnet and Sales Order Header Mapping\n",
    "so_ind_map = {\n",
    "    'Supplier ' : 'LOCATION', 'Receiver ' : 'CUSTOMER', 'Date' : 'DATE', 'Item Code ' : 'ITEM CODE', 'Item Name ' : 'ITEM NAME', 'Requested Qty ' : 'REQUESTED QUANTITY', 'Requested Qty ' : 'QUANTITY', 'Unit ' : 'UNITS', 'UnitPrice' : 'UNIT PRICE', 'SubTotal ' : 'Amount', 'Supplier ' : 'LOCATION ITEM'\n",
    "}\n",
    "\n",
    "#Importing Indent CSV\n",
    "#----------------------Reading Indent CSV----------------\n",
    "logger.info('Reading Indent File!')\n",
    "indent_rawdata = pd.read_csv('indentReport.csv', usecols=lambda column: column in so_ind_map.keys())\n",
    "\n",
    "#indent_rawdata.head()"
   ]
  },
  {
   "cell_type": "code",
   "execution_count": 39,
   "metadata": {},
   "outputs": [
    {
     "name": "stdout",
     "output_type": "stream",
     "text": [
      "Indent Data Conversion Done!!!\n"
     ]
    }
   ],
   "source": [
    "# Coping Filtered CSV for Concate Item Name and Item Code and dorpping Item Name, Item and Supplier Columns\n",
    "indent_rawdata_item = indent_rawdata.copy()\n",
    "indent_rawdata_item['ITEM'] = indent_rawdata_item['Item Code '] + ' ' + indent_rawdata_item['Item Name ']\n",
    "#indent_rawdata_item.head()\n",
    "\n",
    "#Droping Cloumns\n",
    "indent_filtered_data = indent_rawdata_item.copy()\n",
    "\n",
    "#Replacing Warehouse Names\n",
    "for index, row in indent_filtered_data.iterrows():\n",
    "    if row['Supplier '] == 'Central Warehouse - Mumbai - Bloombay Enterprise Private Limited':\n",
    "        indent_filtered_data.at[index, 'LOCATION'] = 'BEPL Mumbai Warehouse'\n",
    "    if row['Supplier '] == 'BWC-NCR-Delhi-WRH':\n",
    "        indent_filtered_data.at[index, 'LOCATION'] = 'BEPL Delhi Warehouse'\n",
    "    if row['Supplier '] == 'BWC-KA-Bengaluru-WRH':\n",
    "        indent_filtered_data.at[index, 'LOCATION'] = 'BEPL Bengaluru Warehouse'\n",
    "\n",
    "drop_cloumns = ['Item Code ', 'Item Name ','Supplier ']\n",
    "\n",
    "#Drop Cloumns\n",
    "indent_filtered_data.drop(columns= drop_cloumns ,inplace=True)\n",
    "print('Indent Data Conversion Done!!!')\n",
    "\n",
    "#indent_filtered_data.head()\n"
   ]
  },
  {
   "cell_type": "code",
   "execution_count": 40,
   "metadata": {},
   "outputs": [],
   "source": [
    "#Creating Columns names to be Updated List\n",
    "updated_cloumn_name = ['CUSTOMER','DATE','UNITS','UNIT PRICE','REQUESTED QUANTITY','AMOUNT','ITEM','LOCATION']\n",
    "\n",
    "updated_filtered_data = indent_filtered_data.copy()\n",
    "\n",
    "#Updating Cloumns Names\n",
    "updated_filtered_data.columns = updated_cloumn_name\n",
    "\n",
    "#updated_filtered_data.head()"
   ]
  },
  {
   "cell_type": "code",
   "execution_count": 41,
   "metadata": {},
   "outputs": [],
   "source": [
    "#Creating Dict of Indent Data to match data format for Fixed Values\n",
    "dict_indent = []\n",
    "\n",
    "for index, row in updated_filtered_data.iterrows():\n",
    "    dict_indent.append(row.to_dict())"
   ]
  },
  {
   "cell_type": "code",
   "execution_count": 42,
   "metadata": {},
   "outputs": [],
   "source": [
    "#Combining Indent and Fixed Values Dict\n",
    "combined_dict = dict_indent.copy()\n",
    "\n",
    "for d in combined_dict:\n",
    "    d.update(fvalues_exc_head)\n",
    "\n",
    "\n",
    "#print(combined_dict)\n"
   ]
  },
  {
   "cell_type": "code",
   "execution_count": 43,
   "metadata": {},
   "outputs": [],
   "source": [
    "#Creating External ID\n",
    "\n",
    "formatted_date = current_date.replace('-','')\n",
    "\n",
    "for item in combined_dict:\n",
    "    franchisee_code\t= item['CUSTOMER'].split('-')[0].strip().replace('/', '')\n",
    "\n",
    "    external_id = f'{franchisee_code}{formatted_date}'\n",
    "    \n",
    "    item['External ID'] = external_id\n",
    "\n"
   ]
  },
  {
   "cell_type": "code",
   "execution_count": 69,
   "metadata": {},
   "outputs": [],
   "source": [
    "#Importing Item Master Data\n",
    "#-----------------------------Reading Item Master CSV (NetSuite)----------\n",
    "logger.info('Reading Item Master Data')\n",
    "item_master_raw = pd.read_csv(raw_item_mst_csv)"
   ]
  },
  {
   "cell_type": "code",
   "execution_count": 34,
   "metadata": {},
   "outputs": [],
   "source": [
    "# Concate Item Code and Name\n",
    "item_master_concate = item_master_raw.copy()\n",
    "item_master_concate['ITEM'] = item_master_concate['Name'] + ' ' + item_master_concate['Display Name']\n",
    "\n",
    "#Cloumns Drop List\n",
    "item_cols_drop = ['Name', 'Display Name']\n",
    "\n",
    "final_item_mst = item_master_concate.copy()\n",
    "final_item_mst.drop(columns=item_cols_drop, inplace=True)\n",
    "final_item_mst.rename(columns={'Internal ID' : 'Item : Internal ID'}, inplace=True)\n",
    "\n",
    "#final_item_mst.head()"
   ]
  },
  {
   "cell_type": "code",
   "execution_count": 35,
   "metadata": {},
   "outputs": [],
   "source": [
    "#Importing Customer Master\n",
    "#-------------------------------------Customer Master CSV Import-------\n",
    "logger.info('Reading Customer Master Data!')\n",
    "customer_master_raw = pd.read_csv(raw_cust_mst_csv)\n",
    "\n",
    "#customer_master_raw.drop_duplicates(['Customer Name'], inplace=True)\n",
    "\n",
    "#print(customer_master_raw.count())\n",
    "#customer_master_raw.head()"
   ]
  },
  {
   "cell_type": "code",
   "execution_count": 36,
   "metadata": {},
   "outputs": [],
   "source": [
    "#Import State Code Sheet \n",
    "state_codes =pd.read_excel(state_code_mst_excel)\n",
    "\n",
    "#state_codes.head()"
   ]
  },
  {
   "cell_type": "code",
   "execution_count": 499,
   "metadata": {},
   "outputs": [],
   "source": [
    "#Concate Customer ID and Name \n",
    "cust_mst_concate = customer_master_raw.copy()\n",
    "cust_mst_concate['CUSTOMER'] = cust_mst_concate['Customer Name'] \\\n",
    "    .str.split('(') \\\n",
    "    .str[1] \\\n",
    "    .str.strip() \\\n",
    "    .str.replace(')', '' , regex=False)\n",
    "\n",
    "cust_mst_join = pd.merge(cust_mst_concate, state_codes, on='GST_State_Code', how='inner')\n",
    "\n",
    "final_cust_mst = cust_mst_join.copy()\n",
    "cust_clons_drop = ['ID','GST_State_Code','Name']\n",
    "final_cust_mst = final_cust_mst.drop(columns=cust_clons_drop)\n",
    "final_cust_mst.rename(columns={'Internal ID' : 'Customer : Internal ID'}, inplace=True)\n",
    "\n",
    "#print(cust_mst_filtered.count())\n",
    "#final_cust_mst.head()\n"
   ]
  },
  {
   "cell_type": "code",
   "execution_count": null,
   "metadata": {},
   "outputs": [],
   "source": [
    "print('Creating Sales Order Template')\n",
    "#Creating Dataframe from Combined Dict \n",
    "final_dict = pd.DataFrame(combined_dict)\n",
    "\n",
    "#Replacing Date format in Date Cloumn\n",
    "final_dict['DATE'] = pd.to_datetime(final_dict['DATE'], format=date_format).dt.strftime(changed_format)\n",
    "\n",
    "final_dict['Franchisee Code'] = final_dict['CUSTOMER'].str.split('-').str[0]\n",
    "\n",
    "#final_dict.head()\n"
   ]
  },
  {
   "cell_type": "code",
   "execution_count": 501,
   "metadata": {},
   "outputs": [],
   "source": [
    "join_item = pd.merge(final_dict, final_item_mst, on='ITEM', how='inner')\n",
    "#join_item.head()"
   ]
  },
  {
   "cell_type": "code",
   "execution_count": 502,
   "metadata": {},
   "outputs": [],
   "source": [
    "join_customer = pd.merge(join_item,final_cust_mst, on='CUSTOMER', how='inner')\n",
    "join_customer.drop_duplicates('ITEM', inplace=True)\n",
    "\n",
    "#print(join_customer.count())\n",
    "#join_customer.head()\n"
   ]
  },
  {
   "cell_type": "code",
   "execution_count": null,
   "metadata": {},
   "outputs": [],
   "source": [
    "export_data = join_customer.copy()\n",
    "export_drop_cols =['Franchisee Code_x','Franchisee Code_y','CUSTOMER']\n",
    "export_data.drop(columns=export_drop_cols, inplace=True)\n",
    "export_data['Sales Order - Items : Location'] = export_data['LOCATION']\n",
    "export_data['QUANTITY'] = export_data['REQUESTED QUANTITY']\n",
    "\n",
    "#export_data.head()"
   ]
  },
  {
   "cell_type": "code",
   "execution_count": null,
   "metadata": {},
   "outputs": [],
   "source": [
    "#Create file name\n",
    "location_file = final_dict['LOCATION'].iloc[0]\n",
    "file_name = f'SO_Indent_{location_file}_Dt.{current_date}.csv'\n",
    "\n",
    "#Set Output path\n",
    "output_dir = r'D:\\Projects\\Auto Output'\n",
    "\n",
    "if os.path.exists(output_dir):\n",
    "    output_path = os.path.join(output_dir, file_name)\n",
    "else:\n",
    "    user_download_path = os.path.join(os.path.expanduser(\"~\"), 'Downloads')\n",
    "    output_path = os.path.join(user_download_path,file_name)"
   ]
  },
  {
   "cell_type": "code",
   "execution_count": null,
   "metadata": {},
   "outputs": [],
   "source": [
    "#Export Data to file\n",
    "logger.info('Creating Sales Order Data')\n",
    "export_data.to_csv(output_path,index=False)\n",
    "\n",
    "logger.info(f'File Sucessfully Saved to {output_path}')\n",
    "logger.info('Processing Completed!!!!')"
   ]
  }
 ],
 "metadata": {
  "kernelspec": {
   "display_name": "Python 3",
   "language": "python",
   "name": "python3"
  },
  "language_info": {
   "codemirror_mode": {
    "name": "ipython",
    "version": 3
   },
   "file_extension": ".py",
   "mimetype": "text/x-python",
   "name": "python",
   "nbconvert_exporter": "python",
   "pygments_lexer": "ipython3",
   "version": "3.12.4"
  }
 },
 "nbformat": 4,
 "nbformat_minor": 2
}
